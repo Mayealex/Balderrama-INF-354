{
  "nbformat": 4,
  "nbformat_minor": 0,
  "metadata": {
    "colab": {
      "provenance": [],
      "authorship_tag": "ABX9TyPiMKv0t86p7LVvvVAwWBTw",
      "include_colab_link": true
    },
    "kernelspec": {
      "name": "python3",
      "display_name": "Python 3"
    },
    "language_info": {
      "name": "python"
    }
  },
  "cells": [
    {
      "cell_type": "markdown",
      "metadata": {
        "id": "view-in-github",
        "colab_type": "text"
      },
      "source": [
        "<a href=\"https://colab.research.google.com/github/Mayealex/Balderrama-INF-354/blob/main/Pregunta_7.ipynb\" target=\"_parent\"><img src=\"https://colab.research.google.com/assets/colab-badge.svg\" alt=\"Open In Colab\"/></a>"
      ]
    },
    {
      "cell_type": "markdown",
      "source": [
        "Programe el anterior problema en Python con\n",
        "\n",
        "\n",
        "\n"
      ],
      "metadata": {
        "id": "etroiPY6Ebms"
      }
    },
    {
      "cell_type": "code",
      "source": [
        "!pip install deap # instalamos el modulo faltante"
      ],
      "metadata": {
        "colab": {
          "base_uri": "https://localhost:8080/"
        },
        "id": "V0aehOajFGB9",
        "outputId": "378c0c34-3190-4db0-e192-fd1ceb3517b9"
      },
      "execution_count": null,
      "outputs": [
        {
          "output_type": "stream",
          "name": "stdout",
          "text": [
            "Requirement already satisfied: deap in /usr/local/lib/python3.10/dist-packages (1.4.1)\n",
            "Requirement already satisfied: numpy in /usr/local/lib/python3.10/dist-packages (from deap) (1.26.4)\n"
          ]
        }
      ]
    },
    {
      "cell_type": "markdown",
      "source": [
        "\n",
        "\n",
        "---\n",
        "\n"
      ],
      "metadata": {
        "id": "Bf85kFBrOwRo"
      }
    },
    {
      "cell_type": "markdown",
      "source": [
        "CON EL USO DEL DEAP\n"
      ],
      "metadata": {
        "id": "u9DqgFznOsc4"
      }
    },
    {
      "cell_type": "code",
      "source": [
        "import random\n",
        "from deap import base, creator, tools\n",
        "\n",
        "# Definición de la función f(x)\n",
        "def f(x):\n",
        "    try:\n",
        "        result = (x ** (2 * x)) - 1\n",
        "        if isinstance(result, complex):  # Verifica si el resultado es complejo\n",
        "            return float('-inf'),  # Devuelve un valor bajo para penalizar\n",
        "        return result\n",
        "    except Exception:\n",
        "        return float('-inf'),  # Devuelve un valor bajo en caso de error\n",
        "\n",
        "# Crear el tipo de problema de maximización\n",
        "creator.create(\"FitnessMax\", base.Fitness, weights=(1.0,))\n",
        "creator.create(\"Individual\", list, fitness=creator.FitnessMax)\n",
        "\n",
        "# Inicializar la población\n",
        "initial_population = [30, 24, 12, 25, 19, 3, 29, 28, 9, 10, 13, 12, 11, 10, 9, 8, 7, 6, 5, 4]\n",
        "\n",
        "# Función para inicializar los individuos (sin aleatoriedad)\n",
        "def initIndividual():\n",
        "    return [initial_population.pop(0)]  # Usa el primer valor de la lista y lo quita\n",
        "\n",
        "# Función para evaluar los individuos\n",
        "def evaluate(individual):\n",
        "    return (f(individual[0]),)  # DEAP espera una tupla de resultados\n",
        "\n",
        "# Función para asegurar que los individuos se mantengan dentro del rango\n",
        "def clamp(value):\n",
        "    return max(1, min(value, 30))\n",
        "\n",
        "# Configuración del entorno de DEAP\n",
        "toolbox = base.Toolbox()\n",
        "toolbox.register(\"individual\", tools.initIterate, creator.Individual, initIndividual)\n",
        "toolbox.register(\"population\", tools.initRepeat, list, toolbox.individual)\n",
        "toolbox.register(\"mate\", tools.cxBlend, alpha=0.5)\n",
        "toolbox.register(\"mutate\", tools.mutGaussian, mu=0, sigma=1, indpb=0.2)\n",
        "toolbox.register(\"select\", tools.selTournament, tournsize=3)\n",
        "toolbox.register(\"evaluate\", evaluate)\n",
        "\n",
        "# Crear la población inicial\n",
        "population = toolbox.population(n=len(initial_population))\n",
        "\n",
        "# Imprimir la población inicial\n",
        "print(f\"Población inicial: {[ind[0] for ind in population]}\")\n",
        "\n",
        "# Número de generaciones\n",
        "num_generations = 5\n",
        "\n",
        "# Ejecutar el algoritmo genético\n",
        "for generation in range(num_generations):\n",
        "    # Selección de la próxima generación\n",
        "    offspring = toolbox.select(population, len(population))\n",
        "    offspring = list(map(toolbox.clone, offspring))\n",
        "\n",
        "    # Aplicar cruce y mutación\n",
        "    for child1, child2 in zip(offspring[::2], offspring[1::2]):\n",
        "        if random.random() < 0.5:  # Tasa de cruce\n",
        "            toolbox.mate(child1, child2)\n",
        "            del child1.fitness.values\n",
        "            del child2.fitness.values\n",
        "\n",
        "    for mutant in offspring:\n",
        "        if random.random() < 0.2:  # Tasa de mutación\n",
        "            toolbox.mutate(mutant)\n",
        "            del mutant.fitness.values\n",
        "\n",
        "    # Evaluar los individuos con fitness no válido\n",
        "    invalid_ind = [ind for ind in offspring if not ind.fitness.valid]\n",
        "    fitnesses = map(toolbox.evaluate, invalid_ind)\n",
        "    for ind, fit in zip(invalid_ind, fitnesses):\n",
        "        ind.fitness.values = fit\n",
        "\n",
        "    # Clamping para mantener valores dentro de los límites establecidos\n",
        "    for ind in offspring:\n",
        "        ind[0] = clamp(ind[0])\n",
        "\n",
        "    # Reemplazar la población antigua por la nueva\n",
        "    population[:] = offspring\n",
        "\n",
        "    # Imprimir la población de la generación actual\n",
        "    print(f\"Generación {generation + 1}: {[ind[0] for ind in population]}\")\n"
      ],
      "metadata": {
        "colab": {
          "base_uri": "https://localhost:8080/"
        },
        "id": "3nnrIHp5Ns1R",
        "outputId": "6677a077-316e-481b-d839-9e6ed7a70448"
      },
      "execution_count": null,
      "outputs": [
        {
          "output_type": "stream",
          "name": "stdout",
          "text": [
            "Población inicial: [30, 24, 12, 25, 19, 3, 29, 28, 9, 10, 13, 12, 11, 10, 9, 8, 7, 6, 5, 4]\n",
            "Generación 1: [10, 12, 5.283953089803476, 13.716046910196523, 2.136370974133431, 30, 30, 13, 5.668441818536221, 29.331558181463784, 7, 6, 19, 11, 4, 29, 28.737862492123867, 1, 11.349739571002432, 10.65026042899757]\n",
            "Generación 2: [30.0, 30.0, 29.490662303940127, 29.331558181463784, 10.62552828531156, 10.064757865029275, 30, 10.071754913461582, 29.331558181463784, 29.331558181463784, 30, 18.708435040612937, 30, 7.380337925642084, 15.398961575203717, 26.338900916920146, 13.563039057352917, 3.1054027611833046, 30, 5.192967648941039]\n",
            "Generación 3: [30.0, 30.0, 30, 28.870752978812074, 29.331558181463784, 10.071754913461582, 30.0, 30, 30, 29.331558181463784, 30.0, 15.398961575203717, 29.84346403405547, 29.488094147408315, 29.935861677272946, 29.55480062666718, 30, 29.490662303940127, 30, 18.708435040612937]\n",
            "Generación 4: [30.0, 30.0, 30, 30, 29.55480062666718, 30, 30.0, 30.0, 30, 30, 30, 30, 30, 30, 30.0, 30.0, 30.0, 30.0, 30, 30]\n",
            "Generación 5: [30.0, 30.0, 30.0, 30.0, 30.0, 30, 30.0, 30.0, 30, 30.0, 30.0, 30.0, 30, 30, 30, 30, 30, 30.0, 30, 30]\n"
          ]
        }
      ]
    },
    {
      "cell_type": "markdown",
      "source": [
        "\n",
        "\n",
        "---\n",
        "\n"
      ],
      "metadata": {
        "id": "jBoRm9irO8-I"
      }
    },
    {
      "cell_type": "markdown",
      "source": [
        "SIN EL USO DEL DEAP"
      ],
      "metadata": {
        "id": "bYk3Fw8_O54w"
      }
    },
    {
      "cell_type": "code",
      "source": [
        "import random\n",
        "\n",
        "# Definición de la función f(x)\n",
        "def f(x):\n",
        "    return (x ** (2 * x)) - 1\n",
        "\n",
        "# Generación de la población inicial\n",
        "initial_population = [30, 24, 12, 25, 19, 3, 29, 28, 9, 10, 13, 12, 11, 10, 9, 8, 7, 6, 5, 4]\n",
        "population = initial_population.copy()\n",
        "\n",
        "# Número de generaciones\n",
        "num_generations = 5\n",
        "\n",
        "# Función para seleccionar los padres\n",
        "def select_parents(population):\n",
        "    return random.choices(population, k=2)\n",
        "\n",
        "# Función para reproducir y crear la siguiente generación\n",
        "def reproduce(population):\n",
        "    next_generation = []\n",
        "    for _ in range(len(population)):\n",
        "        parent1, parent2 = select_parents(population)\n",
        "        # Simulación de crossover (unión de los padres)\n",
        "        child = (parent1 + parent2) // 2  # O puedes elegir el promedio\n",
        "        next_generation.append(child)\n",
        "    return next_generation\n",
        "\n",
        "# Imprimir la población inicial\n",
        "print(f\"Población inicial: {initial_population}\")\n",
        "\n",
        "# Ejecutar el algoritmo genético\n",
        "for generation in range(num_generations):\n",
        "    population = reproduce(population)\n",
        "    print(f\"Generación {generation + 1}: {population}\")\n",
        "\n",
        "\n"
      ],
      "metadata": {
        "colab": {
          "base_uri": "https://localhost:8080/"
        },
        "id": "tz-1NlEeJA0b",
        "outputId": "60097878-9a92-49fa-8c13-b97adaea24d1"
      },
      "execution_count": null,
      "outputs": [
        {
          "output_type": "stream",
          "name": "stdout",
          "text": [
            "Población inicial: [30, 24, 12, 25, 19, 3, 29, 28, 9, 10, 13, 12, 11, 10, 9, 8, 7, 6, 5, 4]\n",
            "Generación 1: [5, 9, 20, 11, 6, 18, 8, 23, 19, 7, 19, 11, 25, 18, 21, 19, 17, 12, 16, 8]\n",
            "Generación 2: [17, 18, 18, 7, 14, 15, 15, 20, 23, 5, 15, 12, 19, 21, 18, 15, 17, 19, 15, 7]\n",
            "Generación 3: [16, 13, 17, 19, 17, 7, 16, 19, 20, 17, 20, 6, 12, 18, 15, 18, 20, 17, 12, 16]\n",
            "Generación 4: [12, 12, 16, 15, 18, 11, 18, 11, 18, 16, 12, 17, 20, 13, 11, 19, 15, 15, 20, 19]\n",
            "Generación 5: [18, 15, 12, 15, 14, 14, 16, 17, 14, 14, 17, 15, 14, 18, 15, 18, 17, 15, 15, 11]\n"
          ]
        }
      ]
    }
  ]
}